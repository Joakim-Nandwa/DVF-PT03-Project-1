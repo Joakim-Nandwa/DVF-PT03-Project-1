{
  "cells": [
    {
      "cell_type": "markdown",
      "metadata": {
        "id": "view-in-github",
        "colab_type": "text"
      },
      "source": [
        "<a href=\"https://colab.research.google.com/github/Joakim-Nandwa/DVF-PT03-Project-1/blob/main/student.ipynb\" target=\"_parent\"><img src=\"https://colab.research.google.com/assets/colab-badge.svg\" alt=\"Open In Colab\"/></a>"
      ]
    },
    {
      "cell_type": "markdown",
      "metadata": {
        "id": "39gUE6ooFMWf"
      },
      "source": [
        "## Final Project Submission\n",
        "\n",
        "Please fill out:\n",
        "* Student name: Joakim Nandwa\n",
        "* Student pace: Part-time\n",
        "* Scheduled project review date/time: July 2024\n",
        "* Instructor name: Samwel Jane & Veronicah\n",
        "* Blog post URL:\n"
      ]
    },
    {
      "cell_type": "markdown",
      "source": [
        "# **INTRODUCTION**\n",
        "# **PROJECT OVERVIEW**\n",
        "In this project, I will conduct exploratory data analysis to generate strategic insights for Microsoft's new movie studio initiative. As Microsoft seeks to enter the original video content market, they need guidance on successful film production. My objective is to analyze current industry trends and determine which types of films perform best at the box office, thereby informing Microsoft's decision-making process to optimize their success in the film industry.\n",
        "\n",
        "To achieve this, I will leverage datasets from Box Office Mojo, IMDB, and The Numbers, with a focus on ``imdb.title.basics,`` ``imdb.title.ratings,`` and ``bom.movie_gross`` for a streamlined and effective analysis. This project aims to deliver clear and actionable insights, providing Microsoft with a solid foundation as they navigate the competitive landscape of movie production"
      ],
      "metadata": {
        "id": "m6s7YhGXGbF_"
      }
    },
    {
      "cell_type": "markdown",
      "source": [
        "Remember to inlude your data sets here"
      ],
      "metadata": {
        "id": "np4Sb1VyMFf_"
      }
    },
    {
      "cell_type": "markdown",
      "source": [
        "# Tools and Libraries\n",
        "Here we will start by loading the important libraries to be used:\n",
        "*   Pandas: This shall be used for Data manipulation and analysis\n",
        "*   NumPy: This shall be used for Numerical computations\n",
        "*   Matplotlib/Seaborn:This shall be used for Data visualization\n",
        "\n",
        "\n"
      ],
      "metadata": {
        "id": "591cWT7lMgpJ"
      }
    },
    {
      "cell_type": "code",
      "execution_count": 2,
      "metadata": {
        "id": "Nge79YE5FMWj"
      },
      "outputs": [],
      "source": [
        "#loading Libraries to be used\n",
        "import pandas as pd\n",
        "import numpy as np\n",
        "import matplotlib.pyplot as plt\n",
        "import seaborn as sns"
      ]
    },
    {
      "cell_type": "markdown",
      "source": [
        "# **Data Collection and Preparation**"
      ],
      "metadata": {
        "id": "E0YTvVjCQhkm"
      }
    },
    {
      "cell_type": "code",
      "source": [
        "#Loading Dataset: bom.movie_gross\n",
        "movie_gross = pd.read_csv('/content/bom.movie_gross.csv')"
      ],
      "metadata": {
        "id": "LqP6WiPpQT9Y"
      },
      "execution_count": 3,
      "outputs": []
    },
    {
      "cell_type": "code",
      "source": [
        "#Loading Dataset:tittle.basics\n",
        "title_basics = pd.read_csv('/content/title.basics.csv')"
      ],
      "metadata": {
        "id": "EUXwrh09S1Cx"
      },
      "execution_count": 4,
      "outputs": []
    },
    {
      "cell_type": "code",
      "source": [
        "#Loading Dataset: title.ratings\n",
        "title_ratings = pd.read_csv('/content/title.ratings.csv')"
      ],
      "metadata": {
        "id": "1TlIRMASTMYd"
      },
      "execution_count": 5,
      "outputs": []
    }
  ],
  "metadata": {
    "kernelspec": {
      "display_name": "Python 3",
      "language": "python",
      "name": "python3"
    },
    "language_info": {
      "codemirror_mode": {
        "name": "ipython",
        "version": 3
      },
      "file_extension": ".py",
      "mimetype": "text/x-python",
      "name": "python",
      "nbconvert_exporter": "python",
      "pygments_lexer": "ipython3",
      "version": "3.6.4"
    },
    "colab": {
      "provenance": [],
      "include_colab_link": true
    }
  },
  "nbformat": 4,
  "nbformat_minor": 0
}